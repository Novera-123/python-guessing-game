{
  "nbformat": 4,
  "nbformat_minor": 0,
  "metadata": {
    "colab": {
      "provenance": []
    },
    "kernelspec": {
      "name": "python3",
      "display_name": "Python 3"
    },
    "language_info": {
      "name": "python"
    }
  },
  "cells": [
    {
      "cell_type": "code",
      "execution_count": null,
      "metadata": {
        "colab": {
          "base_uri": "https://localhost:8080/"
        },
        "id": "SDtgo5s255-7",
        "outputId": "b1aea7a5-973e-433c-8a40-cdd50eba31a4"
      },
      "outputs": [
        {
          "output_type": "stream",
          "name": "stdout",
          "text": [
            "------------------WELCOME TO THE GUESSING GAME------------------\n",
            "\n",
            "             Please enter numbers between 1 and 50\n",
            "\n",
            " Guess the secret number between 1 and 50 : 25\n",
            "Your guess is too low and now you have 4 chances left\n",
            "\n",
            " Guess the secret number between 1 and 50 : 30\n",
            "Your guess is too low and now you have 3 chances left\n",
            "\n",
            " Guess the secret number between 1 and 50 : 40\n",
            "Your guess is too low and now you have 2 chances left\n",
            "\n",
            " Guess the secret number between 1 and 50 : 45\n",
            "Your guess is too low and now you have 1 chances left\n",
            "\n",
            " Guess the secret number between 1 and 50 : 49\n",
            "YAAYYY!! YOU WON\n"
          ]
        }
      ],
      "source": [
        "#Novera Maaz\n",
        "#DS COHORT 4\n",
        "#Violet group\n",
        "\n",
        "#Guessing Game\n",
        "#Assigment 2\n",
        "\n",
        "#Task 1\n",
        "import random\n",
        "\n",
        "secret_number = random.randint(1,50)\n",
        "\n",
        "attempt = 0\n",
        "total_attempts = 5\n",
        "print(\"------------------WELCOME TO THE GUESSING GAME------------------\\n\\n             Please enter numbers between 1 and 50\")\n",
        "while attempt < total_attempts:\n",
        "      try:\n",
        "        guess=int(input(\"\\n Guess the secret number between 1 and 50 : \"))\n",
        "        attempt += 1\n",
        "      except ValueError:\n",
        "                      print(\"Please enter a valid number \")\n",
        "                      continue\n",
        "\n",
        "      if secret_number == guess:\n",
        "          print(\"YAAYYY!! YOU WON\")\n",
        "          break\n",
        "      elif guess > secret_number :\n",
        "          print(f\"Your guess is too high and now you have {total_attempts - attempt} chances left\")\n",
        "          continue\n",
        "      elif guess < secret_number:\n",
        "          print(f\"Your guess is too low and now you have {total_attempts - attempt} chances left\")\n",
        "          continue\n",
        "if total_attempts < 6 and guess != secret_number:\n",
        "          print(f\"\\n Game Over! The secret number was {secret_number} Better luck next time!\")\n"
      ]
    },
    {
      "cell_type": "code",
      "source": [
        "# Task 2 (a)\n",
        "\n",
        "def num_vowels(input_string):\n",
        "  vowel_count= 0\n",
        "  vowels = \"aeiou\"\n",
        "  for vowel in input_string:\n",
        "      if vowel in vowels:\n",
        "        vowel_count+=1\n",
        "  return vowel_count\n",
        "\n",
        "input_string = (\"learning python is fun and engaging\")\n",
        "vowel_num = num_vowels(input_string)\n",
        "print(f\"The total number of vowels is {vowel_num}\")\n",
        "\n"
      ],
      "metadata": {
        "id": "T1o9scNu8cCE",
        "colab": {
          "base_uri": "https://localhost:8080/"
        },
        "outputId": "041a376b-fa52-4b89-b469-a10f30f1af95"
      },
      "execution_count": null,
      "outputs": [
        {
          "output_type": "stream",
          "name": "stdout",
          "text": [
            "The total number of vowels is 10\n"
          ]
        }
      ]
    },
    {
      "cell_type": "code",
      "source": [
        "#Task 2 (b)\n",
        "\n",
        "def hours_to_min(hours):\n",
        "  conversion_to_min = hours * 60\n",
        "  return conversion_to_min\n",
        "hours = float(input(\"Please enter time in hours to convert to minutes: \"))\n",
        "result = hours_to_min(hours)\n",
        "print(f\"The total minutes are {result} minutes\")\n"
      ],
      "metadata": {
        "colab": {
          "base_uri": "https://localhost:8080/"
        },
        "id": "2zbtRPitWNq7",
        "outputId": "1e52ba7b-54fb-4817-d3ab-8f2167ac87ce"
      },
      "execution_count": null,
      "outputs": [
        {
          "output_type": "stream",
          "name": "stdout",
          "text": [
            "Please enter time in hours to convert to minutes: 2.5\n",
            "The total minutes are 150.0 minutes\n"
          ]
        }
      ]
    },
    {
      "cell_type": "code",
      "source": [
        "#Task 2 (c)\n",
        "\n",
        "number = int(input(\"Please enter your number \"))\n",
        "num = 0\n",
        "i=0\n",
        "\n",
        "for i in range (1, 13):\n",
        "\n",
        " answer = number * i\n",
        " print (f\"{number} * {i} = {answer}\")"
      ],
      "metadata": {
        "colab": {
          "base_uri": "https://localhost:8080/"
        },
        "id": "sscTHhznWVHC",
        "outputId": "436b08c2-8a66-4f67-c185-f8ac3cfa9be3"
      },
      "execution_count": null,
      "outputs": [
        {
          "output_type": "stream",
          "name": "stdout",
          "text": [
            "Please enter your number 4\n",
            "4 * 1 = 4\n",
            "4 * 2 = 8\n",
            "4 * 3 = 12\n",
            "4 * 4 = 16\n",
            "4 * 5 = 20\n",
            "4 * 6 = 24\n",
            "4 * 7 = 28\n",
            "4 * 8 = 32\n",
            "4 * 9 = 36\n",
            "4 * 10 = 40\n",
            "4 * 11 = 44\n",
            "4 * 12 = 48\n"
          ]
        }
      ]
    },
    {
      "cell_type": "code",
      "source": [
        "#Task 2 (d)\n",
        "\n",
        "def eligibilty(age,gpa):\n",
        "  if age >= 18 and gpa > 3.0 :\n",
        "    return True\n",
        "  else:\n",
        "    return False\n",
        "age = int(input(\"Please enter your age : \"))\n",
        "gpa = float(input(\"Please enter your gpa within 4.0 :\"))\n",
        "\n",
        "eligibilty(age, gpa)\n"
      ],
      "metadata": {
        "colab": {
          "base_uri": "https://localhost:8080/"
        },
        "id": "woPgCEaAWZ7S",
        "outputId": "98fd6b57-cc87-40e6-e56f-08b98a11d69f"
      },
      "execution_count": null,
      "outputs": [
        {
          "name": "stdout",
          "output_type": "stream",
          "text": [
            "Please enter your age : 40\n",
            "Please enter your gpa within 4.0 :2.9\n"
          ]
        },
        {
          "output_type": "execute_result",
          "data": {
            "text/plain": [
              "False"
            ]
          },
          "metadata": {},
          "execution_count": 6
        }
      ]
    }
  ]
}